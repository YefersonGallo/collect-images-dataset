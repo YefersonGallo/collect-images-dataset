{
 "cells": [
  {
   "cell_type": "markdown",
   "metadata": {},
   "source": [
    "# 1. Collect Images"
   ]
  },
  {
   "cell_type": "code",
   "execution_count": 1,
   "metadata": {},
   "outputs": [],
   "source": [
    "# Import opencv\n",
    "import cv2 \n",
    "\n",
    "# Import uuid\n",
    "import uuid\n",
    "\n",
    "# Import Operating System\n",
    "import os\n",
    "\n",
    "# Import time\n",
    "import time"
   ]
  },
  {
   "cell_type": "code",
   "execution_count": 2,
   "metadata": {},
   "outputs": [],
   "source": [
    "IMAGES_PATH = 'page\\images\\prueba'"
   ]
  },
  {
   "cell_type": "code",
   "execution_count": 4,
   "metadata": {},
   "outputs": [],
   "source": [
    "labels = ['a', 'b', 'c', 'd', 'e', 'f', 'i', 'k', 'l', 'm', 'n', 'o', 'p', 'q', 'r', 't', 'u', 'v', 'w', 'x', 'y']\n",
    "number_imgs = 20"
   ]
  },
  {
   "cell_type": "code",
   "execution_count": 5,
   "outputs": [
    {
     "data": {
      "text/plain": "['a', 'b', 'c']"
     },
     "execution_count": 5,
     "metadata": {},
     "output_type": "execute_result"
    }
   ],
   "source": [
    "labels"
   ],
   "metadata": {
    "collapsed": false,
    "pycharm": {
     "name": "#%%\n"
    }
   }
  },
  {
   "cell_type": "code",
   "execution_count": 15,
   "metadata": {},
   "outputs": [
    {
     "name": "stdout",
     "output_type": "stream",
     "text": [
      "Collecting images for a\n",
      "page\\images\\prueba\\a\\a.fb1b4028-c83f-11ec-b299-6479f0d6491b.jpg\n",
      "page\\images\\prueba\\a\\a.fce8d2d7-c83f-11ec-8b5b-6479f0d6491b.jpg\n",
      "page\\images\\prueba\\a\\a.feb748a0-c83f-11ec-91e0-6479f0d6491b.jpg\n",
      "Collecting images for b\n",
      "page\\images\\prueba\\b\\b.055a9e13-c840-11ec-8aae-6479f0d6491b.jpg\n",
      "page\\images\\prueba\\b\\b.072c5c3b-c840-11ec-96f8-6479f0d6491b.jpg\n",
      "page\\images\\prueba\\b\\b.08fdeb10-c840-11ec-a1fe-6479f0d6491b.jpg\n",
      "Collecting images for c\n",
      "page\\images\\prueba\\c\\c.0fa265bd-c840-11ec-ba95-6479f0d6491b.jpg\n",
      "page\\images\\prueba\\c\\c.11748d45-c840-11ec-ad2b-6479f0d6491b.jpg\n",
      "page\\images\\prueba\\c\\c.13454e4e-c840-11ec-b71c-6479f0d6491b.jpg\n"
     ]
    }
   ],
   "source": [
    "cap = cv2.VideoCapture(0)\n",
    "\n",
    "for label in labels:\n",
    "    ret, frame = cap.read()\n",
    "    !mkdir {os.path.join(IMAGES_PATH,label)}\n",
    "    print('Collecting images for {}'.format(label))\n",
    "    for imgnum in range(number_imgs + 1):\n",
    "        time.sleep(3)\n",
    "        ret, frame = cap.read()\n",
    "        if imgnum > 0:\n",
    "            cv2.putText(frame, 'Collecting images from {} {}'.format(label, imgnum), (15, 12),\n",
    "                                cv2.FONT_HERSHEY_SIMPLEX, 0.5, (0, 255, 0), 1, cv2.LINE_AA)\n",
    "            imgname = os.path.join(IMAGES_PATH,label,label+'.'+'{}.jpg'.format(str(uuid.uuid1())))\n",
    "            print(imgname)\n",
    "            ret, frame = cap.read()\n",
    "            cv2.imwrite(imgname, frame)\n",
    "        else:\n",
    "            cv2.putText(frame, 'STARTING COLLECTION {}'.format(label), (40,40),\n",
    "                               cv2.FONT_HERSHEY_SIMPLEX, 1, (0,255, 0), 4, cv2.LINE_AA)\n",
    "        cv2.imshow('OpenCV Feed', frame)\n",
    "        if cv2.waitKey(1) & 0xFF == ord('t'):\n",
    "            break\n",
    "    time.sleep(5)"
   ]
  },
  {
   "cell_type": "code",
   "execution_count": 16,
   "outputs": [],
   "source": [
    "cap.release()\n",
    "cv2.destroyAllWindows()"
   ],
   "metadata": {
    "collapsed": false,
    "pycharm": {
     "name": "#%%\n"
    }
   }
  },
  {
   "cell_type": "code",
   "execution_count": null,
   "outputs": [],
   "source": [],
   "metadata": {
    "collapsed": false,
    "pycharm": {
     "name": "#%%\n"
    }
   }
  }
 ],
 "metadata": {
  "kernelspec": {
   "display_name": "Python 3",
   "language": "python",
   "name": "python3"
  },
  "language_info": {
   "codemirror_mode": {
    "name": "ipython",
    "version": 3
   },
   "file_extension": ".py",
   "mimetype": "text/x-python",
   "name": "python",
   "nbconvert_exporter": "python",
   "pygments_lexer": "ipython3",
   "version": "3.7.4"
  }
 },
 "nbformat": 4,
 "nbformat_minor": 2
}